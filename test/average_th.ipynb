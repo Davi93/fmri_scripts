{
 "cells": [
  {
   "cell_type": "code",
   "execution_count": 1,
   "metadata": {},
   "outputs": [
    {
     "name": "stderr",
     "output_type": "stream",
     "text": [
      "<frozen importlib._bootstrap>:228: RuntimeWarning: scipy._lib.messagestream.MessageStream size changed, may indicate binary incompatibility. Expected 56 from C header, got 64 from PyObject\n",
      "c:\\Users\\davide\\miniconda3\\envs\\neuroimg\\lib\\site-packages\\nilearn\\datasets\\__init__.py:93: FutureWarning: Fetchers from the nilearn.datasets module will be updated in version 0.9 to return python strings instead of bytes and Pandas dataframes instead of Numpy arrays.\n",
      "  warn(\"Fetchers from the nilearn.datasets module will be \"\n"
     ]
    }
   ],
   "source": [
    "from nilearn import image, plotting\n",
    "from nilearn.image import new_img_like\n",
    "import numpy as np\n",
    "import os, glob, scipy\n",
    "import matplotlib.pyplot as plt\n",
    "folder = 'D:\\\\subj_sara\\\\data\\\\'\n",
    "subjs = ['01','04']\n",
    "th_mask = image.load_img('D:\\\\subj_sara\\\\Thalamus_bilateral_AAL.nii')"
   ]
  },
  {
   "cell_type": "code",
   "execution_count": 206,
   "metadata": {},
   "outputs": [
    {
     "name": "stdout",
     "output_type": "stream",
     "text": [
      "Subject: 01\n",
      "Iterating session 0\n",
      "N onsets: 30\n",
      "Iterating session 1\n",
      "N onsets: 34\n",
      "Subject: 04\n",
      "Iterating session 0\n",
      "N onsets: 26\n",
      "Iterating session 1\n",
      "N onsets: 34\n"
     ]
    }
   ],
   "source": [
    "results = []\n",
    "for ns, s in enumerate (subjs):\n",
    "    this_res = [] # results of participant s\n",
    "    print('Subject: ' + s)\n",
    "\n",
    "    # Iterating sessions of participant s\n",
    "    func_path = glob.glob(folder + 'swasub-' + s + '*.nii')\n",
    "    onsets_path = glob.glob(folder + 'onset_switches_sub-' + s + '*.mat')\n",
    "\n",
    "    all_sessions_res = [] # list with results of all sessions\n",
    "    for nses, session in enumerate(func_path):\n",
    "\n",
    "        # Loading scan / onsets for participant s and session \"session\"\n",
    "        print('Iterating session ' + str(nses))\n",
    "        func = image.load_img(session)\n",
    "\n",
    "        # Or you can define it above\n",
    "        TR = func.header['pixdim'][4] # = 1.5?\n",
    "\n",
    "        # questo è il casino per accedere agli onsets\n",
    "        onsets_data = list(scipy.io.loadmat(onsets_path[nses]).items())[-1][1][0]\n",
    "        onsets_vol = onsets_data / TR\n",
    "\n",
    "        print('N onsets: ' + str(len(onsets_vol)))\n",
    "        # Resampling TH mask\n",
    "        if not 'th_res' in locals():\n",
    "                th_res = image.resample_to_img(th_mask, func, interpolation = 'nearest')\n",
    "\n",
    "        # Applying mask\n",
    "        func = func.get_fdata()\n",
    "        for vol in range(0, func.shape[3]):\n",
    "            func[:,:,:,vol] = np.multiply(func[:,:,:,vol], th_res.get_fdata())\n",
    "\n",
    "        all_onsets_results = []\n",
    "        for nons, this_onset in enumerate(onsets_vol):\n",
    "            data = func[:,:,:, int(this_onset)-5:int(this_onset)+5]\n",
    "            data = np.where(data == 0, np.nan, data)\n",
    "\n",
    "            these_volumes_means = []\n",
    "            # media dell'attivazione del talamo in ognuno dei 10 volumi\n",
    "            for data_vol in range(0, data.shape[3]):\n",
    "                these_volumes_means.append(np.nanmean(data[:,:,:, data_vol]))\n",
    "            \n",
    "            #shape = n onsets * n volumes\n",
    "            all_onsets_results.append(these_volumes_means)\n",
    "\n",
    "        # average of the N volumes around each onset \n",
    "        this_res.append([sum(sub_list) / len(sub_list) for sub_list in zip(*all_onsets_results)])\n",
    "\n",
    "    # average of the sessions of participant s\n",
    "    all_sessions_res = [sum(sub_list) / len(sub_list) for sub_list in zip(*this_res)]\n",
    "\n",
    "    # Here's where we append the results of the average of the N sessions of each participant\n",
    "    results.append(all_sessions_res)\n"
   ]
  },
  {
   "cell_type": "code",
   "execution_count": 212,
   "metadata": {},
   "outputs": [
    {
     "data": {
      "text/plain": [
       "[[329.02670716331545,\n",
       "  328.71418108209303,\n",
       "  328.67429375426815,\n",
       "  329.1054385584291,\n",
       "  328.9476975653921,\n",
       "  329.0646818468244,\n",
       "  328.88371091918657,\n",
       "  328.82511445241687,\n",
       "  328.9477671160945,\n",
       "  328.94738458723134],\n",
       " [324.89501086644253,\n",
       "  324.7855012399091,\n",
       "  324.8924579465428,\n",
       "  324.650249671053,\n",
       "  324.56735955305766,\n",
       "  324.7990370339608,\n",
       "  324.754015227812,\n",
       "  324.89525020268314,\n",
       "  324.98760739864014,\n",
       "  325.05815840378665]]"
      ]
     },
     "execution_count": 212,
     "metadata": {},
     "output_type": "execute_result"
    }
   ],
   "source": [
    "this_res"
   ]
  },
  {
   "cell_type": "code",
   "execution_count": 211,
   "metadata": {},
   "outputs": [
    {
     "data": {
      "image/png": "[encoded data removed]",
      "text/plain": [
       "<Figure size 640x480 with 1 Axes>"
      ]
     },
     "metadata": {
      "needs_background": "light"
     },
     "output_type": "display_data"
    }
   ],
   "source": [
    "from matplotlib.pyplot import figure\n",
    "\n",
    "figure(figsize=(8, 6), dpi=80)\n",
    "for sbj_results in results:\n",
    "    plt.plot(np.asarray(sbj_results))"
   ]
  },
  {
   "cell_type": "code",
   "execution_count": 213,
   "metadata": {},
   "outputs": [
    {
     "data": {
      "text/plain": [
       "[<matplotlib.lines.Line2D at 0x1df025e6310>]"
      ]
     },
     "execution_count": 213,
     "metadata": {},
     "output_type": "execute_result"
    },
    {
     "data": {
      "image/png": "[encoded data removed]",
      "text/plain": [
       "<Figure size 432x288 with 1 Axes>"
      ]
     },
     "metadata": {
      "needs_background": "light"
     },
     "output_type": "display_data"
    }
   ],
   "source": [
    "plt.plot(np.asarray(sbj_results))"
   ]
  }
 ],
 "metadata": {
  "interpreter": {
   "hash": "1a04e8d3cf57eb13e3e424f0af4edd4725046eee0d61fcbf258511c525184dd3"
  },
  "kernelspec": {
   "display_name": "Python 3.9.7 ('neuroimg')",
   "language": "python",
   "name": "python3"
  },
  "language_info": {
   "codemirror_mode": {
    "name": "ipython",
    "version": 3
   },
   "file_extension": ".py",
   "mimetype": "text/x-python",
   "name": "python",
   "nbconvert_exporter": "python",
   "pygments_lexer": "ipython3",
   "version": "3.9.7"
  },
  "orig_nbformat": 4
 },
 "nbformat": 4,
 "nbformat_minor": 2
}
