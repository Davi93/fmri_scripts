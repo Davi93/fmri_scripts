{
 "cells": [
  {
   "cell_type": "code",
   "execution_count": 67,
   "metadata": {},
   "outputs": [],
   "source": [
    "# Loading matrices\n",
    "import os\n",
    "import glob\n",
    "\n",
    "folder = 'D:\\\\adjacency_matrices_NetworkToolbox_INF\\\\'\n",
    "all_matrices = glob.glob(folder + 'sub*_adj_*')"
   ]
  },
  {
   "cell_type": "code",
   "execution_count": 90,
   "metadata": {},
   "outputs": [],
   "source": [
    "# Storing matrices into 3d numpy array\n",
    "import pandas as pd\n",
    "import numpy as np\n",
    "\n",
    "all_matrices = all_matrices[0:10] # for testing purposes\n",
    "X = np.zeros([57, 57, len(all_matrices)])\n",
    "\n",
    "for i, matrix in enumerate(all_matrices):\n",
    "    X[:,:,i] = np.array(pd.read_csv(matrix).iloc[: , 1:])\n"
   ]
  },
  {
   "cell_type": "code",
   "execution_count": 91,
   "metadata": {},
   "outputs": [],
   "source": [
    "from sklearn.cluster import KMeans\n",
    "\n",
    "# Reshaping 3d array into 2d array of size Nsamples X N features\n",
    "nx, ny, nsamples = X.shape\n",
    "Xtrain = X.reshape((nsamples, nx*ny))\n",
    "\n",
    "kmeans = KMeans(n_clusters=5, random_state=0).fit_predict(Xtrain)\n"
   ]
  },
  {
   "cell_type": "code",
   "execution_count": 94,
   "metadata": {},
   "outputs": [
    {
     "data": {
      "text/plain": [
       "(10, 3249)"
      ]
     },
     "execution_count": 94,
     "metadata": {},
     "output_type": "execute_result"
    }
   ],
   "source": [
    "Xtrain.shape\n"
   ]
  },
  {
   "cell_type": "code",
   "execution_count": null,
   "metadata": {},
   "outputs": [],
   "source": []
  }
 ],
 "metadata": {
  "interpreter": {
   "hash": "2bb2e88c02631c9acdb2cca42b47db8d956c77e5d847ec74ace7cfa2c4442818"
  },
  "kernelspec": {
   "display_name": "Python 3.9.7 64-bit ('neuroimg': conda)",
   "language": "python",
   "name": "python3"
  },
  "language_info": {
   "codemirror_mode": {
    "name": "ipython",
    "version": 3
   },
   "file_extension": ".py",
   "mimetype": "text/x-python",
   "name": "python",
   "nbconvert_exporter": "python",
   "pygments_lexer": "ipython3",
   "version": "3.9.7"
  },
  "orig_nbformat": 4
 },
 "nbformat": 4,
 "nbformat_minor": 2
}
