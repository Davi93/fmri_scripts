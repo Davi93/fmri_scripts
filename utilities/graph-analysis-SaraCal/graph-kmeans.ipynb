{
 "cells": [
  {
   "cell_type": "code",
   "execution_count": 67,
   "metadata": {},
   "outputs": [],
   "source": [
    "# Loading matrices\n",
    "import os\n",
    "import glob\n",
    "\n",
    "folder = 'D:\\\\adjacency_matrices_NetworkToolbox_INF\\\\'\n",
    "all_matrices = glob.glob(folder + 'sub*_adj_*')"
   ]
  },
  {
   "cell_type": "code",
   "execution_count": 141,
   "metadata": {},
   "outputs": [],
   "source": [
    "# Storing matrices into 3d numpy array\n",
    "import pandas as pd\n",
    "import numpy as np\n",
    "\n",
    "all_matrices = all_matrices[0:10] # for testing purposes\n",
    "X = np.zeros([57, 57, len(all_matrices)])\n",
    "\n",
    "for i, matrix in enumerate(all_matrices):\n",
    "    X[:,:,i] = np.array(pd.read_csv(matrix).iloc[: , 1:])\n",
    "    np.fill_diagonal(X[:,:,i], 0)\n"
   ]
  },
  {
   "cell_type": "code",
   "execution_count": 147,
   "metadata": {},
   "outputs": [],
   "source": [
    "from sklearn.cluster import KMeans\n",
    "\n",
    "# Reshaping 3d array into 2d array of size Nsamples X N features\n",
    "nx, ny, nsamples = X.shape\n",
    "Xtrain = X.reshape((nsamples, nx*ny)).T\n",
    "\n",
    "kmeans = KMeans(n_clusters=5, random_state=0).fit_predict(Xtrain)\n"
   ]
  },
  {
   "cell_type": "code",
   "execution_count": 148,
   "metadata": {},
   "outputs": [
    {
     "data": {
      "text/plain": [
       "<matplotlib.image.AxesImage at 0x1aa8c1381f0>"
      ]
     },
     "execution_count": 148,
     "metadata": {},
     "output_type": "execute_result"
    },
    {
     "data": {
      "image/png": "[encoded data removed]",
      "text/plain": [
       "<Figure size 432x288 with 1 Axes>"
      ]
     },
     "metadata": {
      "needs_background": "light"
     },
     "output_type": "display_data"
    }
   ],
   "source": [
    "import matplotlib.pyplot as plt\n",
    "\n",
    "plt.imshow(kmeans.reshape([57,57]))\n"
   ]
  },
  {
   "cell_type": "code",
   "execution_count": null,
   "metadata": {},
   "outputs": [],
   "source": []
  }
 ],
 "metadata": {
  "interpreter": {
   "hash": "2bb2e88c02631c9acdb2cca42b47db8d956c77e5d847ec74ace7cfa2c4442818"
  },
  "kernelspec": {
   "display_name": "Python 3.9.7 64-bit ('neuroimg': conda)",
   "language": "python",
   "name": "python3"
  },
  "language_info": {
   "codemirror_mode": {
    "name": "ipython",
    "version": 3
   },
   "file_extension": ".py",
   "mimetype": "text/x-python",
   "name": "python",
   "nbconvert_exporter": "python",
   "pygments_lexer": "ipython3",
   "version": "3.9.7"
  },
  "orig_nbformat": 4
 },
 "nbformat": 4,
 "nbformat_minor": 2
}
