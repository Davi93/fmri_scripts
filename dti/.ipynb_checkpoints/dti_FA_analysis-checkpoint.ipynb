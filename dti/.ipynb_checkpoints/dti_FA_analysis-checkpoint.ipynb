{
 "cells": [
  {
   "cell_type": "code",
   "execution_count": null,
   "id": "0f9df188",
   "metadata": {},
   "outputs": [],
   "source": [
    "\"\"\"\n",
    "@author: Davide Aloi, PhD student - University of Birmingham\n",
    "\"\"\"\n",
    "\n",
    "#Imports to run the code\n",
    "import os\n",
    "from nilearn import image\n",
    "from nilearn import plotting\n",
    "import numpy as np\n",
    "import pandas as pd\n",
    "\n"
   ]
  },
  {
   "cell_type": "code",
   "execution_count": null,
   "id": "c850ea2d",
   "metadata": {},
   "outputs": [],
   "source": [
    "## Files and parameters ##\n",
    "main_folder = \"C:\\\\Users\\\\davide\\\\Documents\\\\GitHub\\\\fmri_scripts\\\\dti\" # Folder where you have your data (maps, atlas and csv file with labels)\n",
    "#TFCE MAP files\n",
    "dti_file = 'tbss_tfce_corrp_tstat1.nii' # This is your TFCE MAP (control > athletes)\n",
    "dti_mean_FA = 'mean_FA.nii'\n",
    "all_FA_skeletonised = 'all_FA_skeletonised.nii'\n",
    "\n",
    "#Background anatomical file\n",
    "bck_img = 'MNI152_T1_1mm_Brain.nii'\n",
    "bck_img_path = os.path.join(main_folder, bck_img) \n",
    "bck_img_data = image.load_img(bck_img_path) #load DTI file\n",
    "\n",
    "\n",
    "# Atlas\n",
    "atlas_file = 'JHU-ICBM-labels-1mm.nii' # This is the John Hopkins University Atlas (white matter) \n",
    "atlas_labels_file = 'atlas.csv' #Name of the CSV file with the lables (id = n roi in the atlas_file)\n",
    "# Labels of the atlas\n",
    "atlas_labels_path = os.path.join(main_folder,atlas_labels_file)\n",
    "atlas_labels = pd.read_csv(atlas_labels_path)\n",
    "\n",
    "# Threshold\n",
    "th = 0.95 #threshold (1-p-val). This is the threshold used in the TFCE analysis. Values lower than this threshold are already not in the map\n",
    "\n",
    "## Loading files ##\n",
    "# DTI TFCE MAP\n",
    "dti_map_path = os.path.join(main_folder, dti_file) #path to DTI  file\n",
    "dti_map = image.load_img(dti_map_path) #load DTI file\n",
    "dti_data = dti_map.get_fdata() #data in numpy.array format (not used but you can take a look to see what your data looks like)\n",
    "\n",
    "# Atlas\n",
    "atlas_path = os.path.join(main_folder, atlas_file) #path to atlas file\n",
    "atlas = image.load_img(atlas_path) #load atlas \n",
    "atlas_data = atlas.get_fdata() #atlas in numpy.array format\n"
   ]
  }
 ],
 "metadata": {
  "kernelspec": {
   "display_name": "Python 3",
   "language": "python",
   "name": "python3"
  },
  "language_info": {
   "codemirror_mode": {
    "name": "ipython",
    "version": 3
   },
   "file_extension": ".py",
   "mimetype": "text/x-python",
   "name": "python",
   "nbconvert_exporter": "python",
   "pygments_lexer": "ipython3",
   "version": "3.8.8"
  }
 },
 "nbformat": 4,
 "nbformat_minor": 5
}
